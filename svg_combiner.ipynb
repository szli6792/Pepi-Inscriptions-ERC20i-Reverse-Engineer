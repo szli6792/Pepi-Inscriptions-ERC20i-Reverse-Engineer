{
  "metadata": {
    "kernelspec": {
      "name": "python",
      "display_name": "Python (Pyodide)",
      "language": "python"
    },
    "language_info": {
      "codemirror_mode": {
        "name": "python",
        "version": 3
      },
      "file_extension": ".py",
      "mimetype": "text/x-python",
      "name": "python",
      "nbconvert_exporter": "python",
      "pygments_lexer": "ipython3",
      "version": "3.8"
    }
  },
  "nbformat_minor": 4,
  "nbformat": 4,
  "cells": [
    {
      "cell_type": "code",
      "source": "from IPython.display import SVG, display\nimport os\n\ndef overlay_svg(svg_file1, svg_file2, svg_file3, svg_file4, svg_file5, svg_file6):\n    # Read the contents of the SVG files\n    with open(svg_file1, 'r') as f1:\n        svg_content1 = f1.read()\n    with open(svg_file2, 'r') as f2:\n        svg_content2 = f2.read()\n    with open(svg_file3, 'r') as f3:\n        svg_content3 = f3.read()\n    with open(svg_file4, 'r') as f4:\n        svg_content4 = f4.read()\n    with open(svg_file5, 'r') as f5:\n        svg_content5 = f5.read()\n    with open(svg_file6, 'r') as f6:\n        svg_content6 = f6.read()\n    \n    # Combine the SVG contents\n    combined_svg_content = f'<svg xmlns=\"http://www.w3.org/2000/svg\">{svg_content1}{svg_content2}{svg_content3}{svg_content4}{svg_content5}{svg_content6}</svg>'\n\n    display(SVG(combined_svg_content))\n    # Write the combined SVG content to the output file\n    #with open(output_file, 'w') as f_out:\n        #f_out.write(combined_svg_content)\n\n# Select files:\nsvg_file1 = 'body019' #1-19\nsvg_file2 = 'eye054' #1-54\nsvg_file3 = 'mouth055' #1-55\nsvg_file4 = 'clothing326' #1-326\nsvg_file5 = 'accessory150' #1-150\nsvg_file6 = 'hat187' #1-187\n\n\nfolders = ['/body','/eye','/mouth','/clothing','/accessory','/hat']\nfor folder in folders:\n    for filename in os.listdir('./svgs_from_bytecode' + folder):\n        fileNumber = filename.split('_')[0]\n        if (fileNumber == svg_file1):\n            svg_file1 = './svgs_from_bytecode' + folder + '/' + filename\n        if (fileNumber == svg_file2):\n            svg_file2 = './svgs_from_bytecode' + folder + '/' + filename\n        if (fileNumber == svg_file3):\n            svg_file3 = './svgs_from_bytecode' + folder + '/' + filename\n        if (fileNumber == svg_file4):\n            svg_file4 = './svgs_from_bytecode' + folder + '/' + filename\n        if (fileNumber == svg_file5):\n            svg_file5 = './svgs_from_bytecode' + folder + '/' + filename\n        if (fileNumber == svg_file6):\n            svg_file6 = './svgs_from_bytecode' + folder + '/' + filename\n# Test if svg's were created correctly:\n#for i in range (1,327):\n    #svg_file1 = './svgs_from_bytecode/clothing/clothing' + str(i).zfill(3) + '.svg' #1-19\n    #overlay_svg(svg_file1, svg_file2, svg_file3, svg_file4, svg_file5, svg_file6)\n\noverlay_svg(svg_file1, svg_file2, svg_file3, svg_file4, svg_file5, svg_file6)\n",
      "metadata": {
        "trusted": true
      },
      "outputs": [
        {
          "output_type": "display_data",
          "data": {
            "text/plain": "<IPython.core.display.SVG object>",
            "image/svg+xml": "<svg xmlns=\"http://www.w3.org/2000/svg\"><svg xmlns=\"http://www.w3.org/2000/svg\" viewBox=\"0 0 32 32\">\n<rect x=\"5\" y=\"30\" width=\"22\" height=\"2\" fill=\"#538234\"/>\n<rect x=\"6\" y=\"28\" width=\"20\" height=\"2\" fill=\"#538234\"/>\n<rect x=\"7\" y=\"26\" width=\"18\" height=\"2\" fill=\"#538234\"/>\n<rect x=\"8\" y=\"14\" width=\"18\" height=\"1\" fill=\"#538234\"/>\n<rect x=\"8\" y=\"15\" width=\"19\" height=\"3\" fill=\"#538234\"/>\n<rect x=\"8\" y=\"24\" width=\"16\" height=\"2\" fill=\"#538234\"/>\n<rect x=\"9\" y=\"12\" width=\"16\" height=\"2\" fill=\"#538234\"/>\n<rect x=\"9\" y=\"18\" width=\"18\" height=\"1\" fill=\"#538234\"/>\n<rect x=\"9\" y=\"19\" width=\"17\" height=\"1\" fill=\"#538234\"/>\n<rect x=\"9\" y=\"23\" width=\"14\" height=\"1\" fill=\"#538234\"/>\n<rect x=\"10\" y=\"10\" width=\"16\" height=\"2\" fill=\"#538234\"/>\n<rect x=\"10\" y=\"20\" width=\"15\" height=\"1\" fill=\"#538234\"/>\n<rect x=\"10\" y=\"22\" width=\"12\" height=\"1\" fill=\"#538234\"/>\n<rect x=\"11\" y=\"8\" width=\"14\" height=\"1\" fill=\"#538234\"/>\n<rect x=\"11\" y=\"9\" width=\"15\" height=\"1\" fill=\"#538234\"/>\n<rect x=\"12\" y=\"6\" width=\"11\" height=\"2\" fill=\"#538234\"/>\n<rect x=\"12\" y=\"21\" width=\"11\" height=\"1\" fill=\"#538234\"/>\n<rect x=\"13\" y=\"5\" width=\"4\" height=\"1\" fill=\"#538234\"/>\n<rect x=\"18\" y=\"5\" width=\"4\" height=\"1\" fill=\"#538234\"/>\n</svg><svg xmlns=\"http://www.w3.org/2000/svg\" viewBox=\"0 0 32 32\">\n<rect x=\"16\" y=\"11\" width=\"3\" height=\"1\" fill=\"#040205\"/>\n<rect x=\"17\" y=\"10\" width=\"2\" height=\"1\" fill=\"#040205\"/>\n<rect x=\"21\" y=\"11\" width=\"2\" height=\"1\" fill=\"#040205\"/>\n<rect x=\"22\" y=\"10\" width=\"1\" height=\"1\" fill=\"#040205\"/>\n<rect x=\"15\" y=\"11\" width=\"1\" height=\"1\" fill=\"#fcfefb\"/>\n<rect x=\"16\" y=\"10\" width=\"1\" height=\"1\" fill=\"#fcfefb\"/>\n<rect x=\"17\" y=\"12\" width=\"3\" height=\"1\" fill=\"#fcfefb\"/>\n<rect x=\"19\" y=\"10\" width=\"1\" height=\"2\" fill=\"#fcfefb\"/>\n<rect x=\"21\" y=\"10\" width=\"1\" height=\"1\" fill=\"#fcfefb\"/>\n<rect x=\"21\" y=\"12\" width=\"4\" height=\"1\" fill=\"#fcfefb\"/>\n<rect x=\"23\" y=\"10\" width=\"3\" height=\"2\" fill=\"#fcfefb\"/>\n</svg><svg xmlns=\"http://www.w3.org/2000/svg\" viewBox=\"0 0 32 32\">\n<rect x=\"15\" y=\"16\" width=\"3\" height=\"1\" fill=\"#040205\"/>\n<rect x=\"16\" y=\"17\" width=\"11\" height=\"1\" fill=\"#040205\"/>\n<rect x=\"18\" y=\"18\" width=\"8\" height=\"1\" fill=\"#040205\"/>\n<rect x=\"25\" y=\"16\" width=\"2\" height=\"1\" fill=\"#040205\"/>\n<rect x=\"14\" y=\"15\" width=\"4\" height=\"1\" fill=\"#984d36\"/>\n<rect x=\"14\" y=\"16\" width=\"1\" height=\"1\" fill=\"#984d36\"/>\n<rect x=\"14\" y=\"17\" width=\"2\" height=\"1\" fill=\"#984d36\"/>\n<rect x=\"16\" y=\"18\" width=\"2\" height=\"1\" fill=\"#984d36\"/>\n<rect x=\"18\" y=\"16\" width=\"7\" height=\"1\" fill=\"#984d36\"/>\n<rect x=\"18\" y=\"19\" width=\"8\" height=\"1\" fill=\"#984d36\"/>\n<rect x=\"25\" y=\"15\" width=\"2\" height=\"1\" fill=\"#984d36\"/>\n<rect x=\"26\" y=\"18\" width=\"1\" height=\"1\" fill=\"#984d36\"/>\n</svg><svg xmlns=\"http://www.w3.org/2000/svg\" viewBox=\"0 0 32 32\">\n<rect x=\"11\" y=\"29\" width=\"2\" height=\"1\" fill=\"#040205\"/>\n<rect x=\"11\" y=\"30\" width=\"1\" height=\"2\" fill=\"#040205\"/>\n<rect x=\"12\" y=\"27\" width=\"1\" height=\"2\" fill=\"#040205\"/>\n<rect x=\"18\" y=\"23\" width=\"1\" height=\"1\" fill=\"#040205\"/>\n<rect x=\"18\" y=\"25\" width=\"1\" height=\"1\" fill=\"#040205\"/>\n<rect x=\"21\" y=\"23\" width=\"1\" height=\"1\" fill=\"#040205\"/>\n<rect x=\"21\" y=\"25\" width=\"1\" height=\"1\" fill=\"#040205\"/>\n<rect x=\"23\" y=\"24\" width=\"1\" height=\"1\" fill=\"#040205\"/>\n<rect x=\"15\" y=\"22\" width=\"2\" height=\"1\" fill=\"#494949\"/>\n<rect x=\"15\" y=\"23\" width=\"3\" height=\"1\" fill=\"#494949\"/>\n<rect x=\"15\" y=\"25\" width=\"3\" height=\"2\" fill=\"#494949\"/>\n<rect x=\"16\" y=\"24\" width=\"7\" height=\"1\" fill=\"#494949\"/>\n<rect x=\"19\" y=\"23\" width=\"2\" height=\"1\" fill=\"#494949\"/>\n<rect x=\"19\" y=\"25\" width=\"2\" height=\"1\" fill=\"#494949\"/>\n<rect x=\"22\" y=\"22\" width=\"2\" height=\"2\" fill=\"#494949\"/>\n<rect x=\"22\" y=\"25\" width=\"2\" height=\"2\" fill=\"#494949\"/>\n<rect x=\"5\" y=\"30\" width=\"6\" height=\"2\" fill=\"#984d36\"/>\n<rect x=\"6\" y=\"28\" width=\"6\" height=\"1\" fill=\"#984d36\"/>\n<rect x=\"6\" y=\"29\" width=\"5\" height=\"1\" fill=\"#984d36\"/>\n<rect x=\"7\" y=\"26\" width=\"8\" height=\"1\" fill=\"#984d36\"/>\n<rect x=\"7\" y=\"27\" width=\"5\" height=\"1\" fill=\"#984d36\"/>\n<rect x=\"8\" y=\"24\" width=\"8\" height=\"1\" fill=\"#984d36\"/>\n<rect x=\"8\" y=\"25\" width=\"7\" height=\"1\" fill=\"#984d36\"/>\n<rect x=\"9\" y=\"23\" width=\"6\" height=\"1\" fill=\"#984d36\"/>\n<rect x=\"10\" y=\"22\" width=\"4\" height=\"1\" fill=\"#984d36\"/>\n<rect x=\"12\" y=\"30\" width=\"9\" height=\"1\" fill=\"#984d36\"/>\n<rect x=\"12\" y=\"31\" width=\"10\" height=\"1\" fill=\"#984d36\"/>\n<rect x=\"13\" y=\"27\" width=\"5\" height=\"1\" fill=\"#984d36\"/>\n<rect x=\"13\" y=\"28\" width=\"6\" height=\"1\" fill=\"#984d36\"/>\n<rect x=\"13\" y=\"29\" width=\"7\" height=\"1\" fill=\"#984d36\"/>\n<rect x=\"21\" y=\"26\" width=\"1\" height=\"1\" fill=\"#984d36\"/>\n<rect x=\"22\" y=\"27\" width=\"3\" height=\"1\" fill=\"#984d36\"/>\n<rect x=\"23\" y=\"28\" width=\"3\" height=\"2\" fill=\"#984d36\"/>\n<rect x=\"23\" y=\"30\" width=\"4\" height=\"2\" fill=\"#984d36\"/>\n<rect x=\"24\" y=\"26\" width=\"1\" height=\"1\" fill=\"#984d36\"/>\n<rect x=\"18\" y=\"26\" width=\"3\" height=\"1\" fill=\"#fcfefb\"/>\n<rect x=\"18\" y=\"27\" width=\"4\" height=\"1\" fill=\"#fcfefb\"/>\n<rect x=\"19\" y=\"28\" width=\"4\" height=\"1\" fill=\"#fcfefb\"/>\n<rect x=\"20\" y=\"29\" width=\"3\" height=\"1\" fill=\"#fcfefb\"/>\n<rect x=\"21\" y=\"30\" width=\"2\" height=\"1\" fill=\"#fcfefb\"/>\n<rect x=\"22\" y=\"31\" width=\"1\" height=\"1\" fill=\"#fcfefb\"/>\n</svg><svg xmlns=\"http://www.w3.org/2000/svg\" viewBox=\"0 0 32 32\">\n<rect x=\"9\" y=\"14\" width=\"1\" height=\"1\" fill=\"#2444f8\"/>\n<rect x=\"11\" y=\"11\" width=\"1\" height=\"1\" fill=\"#2444f8\"/>\n<rect x=\"13\" y=\"15\" width=\"1\" height=\"1\" fill=\"#2444f8\"/>\n<rect x=\"9\" y=\"13\" width=\"1\" height=\"1\" fill=\"#fcfefb\"/>\n<rect x=\"11\" y=\"10\" width=\"1\" height=\"1\" fill=\"#fcfefb\"/>\n<rect x=\"13\" y=\"14\" width=\"1\" height=\"1\" fill=\"#fcfefb\"/>\n</svg><svg xmlns=\"http://www.w3.org/2000/svg\" viewBox=\"0 0 32 32\">\n<rect x=\"8\" y=\"14\" width=\"18\" height=\"1\" fill=\"#000000\"/>\n<rect x=\"8\" y=\"15\" width=\"19\" height=\"3\" fill=\"#000000\"/>\n<rect x=\"9\" y=\"12\" width=\"6\" height=\"1\" fill=\"#000000\"/>\n<rect x=\"9\" y=\"13\" width=\"7\" height=\"1\" fill=\"#000000\"/>\n<rect x=\"9\" y=\"18\" width=\"18\" height=\"1\" fill=\"#000000\"/>\n<rect x=\"9\" y=\"19\" width=\"17\" height=\"1\" fill=\"#000000\"/>\n<rect x=\"10\" y=\"10\" width=\"5\" height=\"2\" fill=\"#000000\"/>\n<rect x=\"10\" y=\"20\" width=\"15\" height=\"1\" fill=\"#000000\"/>\n<rect x=\"11\" y=\"8\" width=\"6\" height=\"1\" fill=\"#000000\"/>\n<rect x=\"11\" y=\"9\" width=\"5\" height=\"1\" fill=\"#000000\"/>\n<rect x=\"12\" y=\"6\" width=\"11\" height=\"2\" fill=\"#000000\"/>\n<rect x=\"13\" y=\"5\" width=\"4\" height=\"1\" fill=\"#000000\"/>\n<rect x=\"18\" y=\"5\" width=\"4\" height=\"1\" fill=\"#000000\"/>\n<rect x=\"22\" y=\"8\" width=\"2\" height=\"1\" fill=\"#000000\"/>\n<rect x=\"22\" y=\"13\" width=\"3\" height=\"1\" fill=\"#000000\"/>\n</svg></svg>"
          },
          "metadata": {}
        }
      ],
      "execution_count": 9
    },
    {
      "cell_type": "code",
      "source": "",
      "metadata": {
        "trusted": true
      },
      "outputs": [],
      "execution_count": null
    },
    {
      "cell_type": "code",
      "source": "",
      "metadata": {
        "trusted": true
      },
      "outputs": [],
      "execution_count": null
    },
    {
      "cell_type": "code",
      "source": "",
      "metadata": {
        "trusted": true
      },
      "outputs": [],
      "execution_count": null
    }
  ]
}